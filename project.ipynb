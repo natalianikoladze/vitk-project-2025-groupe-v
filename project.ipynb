{
 "cells": [
  {
   "cell_type": "code",
   "execution_count": 2,
   "id": "dfb93c49",
   "metadata": {},
   "outputs": [],
   "source": [
    "import itk\n",
    "import os\n",
    "import matplotlib\n",
    "import matplotlib.pyplot as plt"
   ]
  },
  {
   "cell_type": "markdown",
   "id": "3b1cfa87-7c5d-4d62-a28b-9babf21b4dc9",
   "metadata": {},
   "source": [
    "## Lecture des données"
   ]
  },
  {
   "cell_type": "code",
   "execution_count": 3,
   "id": "385266fd-2813-4198-8d78-8b96dbb00f5d",
   "metadata": {},
   "outputs": [],
   "source": [
    "file1_path = \"Data/case6_gre1.nrrd\"\n",
    "file2_path = \"Data/case6_gre2.nrrd\"\n",
    "\n",
    "PixelType = itk.F\n",
    "fixed_image = itk.imread(file1_path, PixelType)\n",
    "moving_image = itk.imread(file2_path, PixelType)\n",
    "itk.imwrite(fixed_image, \"fixed_image.nii.gz\")\n",
    "itk.imwrite(moving_image, \"moving_image.nii.gz\")"
   ]
  },
  {
   "cell_type": "markdown",
   "id": "10549056-304c-4d46-bd81-9044a29baeb8",
   "metadata": {},
   "source": [
    "## Recalage d'images"
   ]
  },
  {
   "cell_type": "code",
   "execution_count": 4,
   "id": "ec3a987d-0aa2-4be9-bcce-a23d7caf5404",
   "metadata": {},
   "outputs": [],
   "source": [
    "dimension = fixed_image.GetImageDimension()\n",
    "FixedImageType = type(fixed_image)\n",
    "MovingImageType = type(moving_image)"
   ]
  },
  {
   "cell_type": "markdown",
   "id": "82659d0d-278a-495d-a2a3-f535c64a3705",
   "metadata": {},
   "source": [
    "### Recalage par translation"
   ]
  },
  {
   "cell_type": "code",
   "execution_count": 5,
   "id": "4dcde6d0-8201-417c-a880-f5e34930c2cc",
   "metadata": {},
   "outputs": [],
   "source": [
    "#Définir la transformation\n",
    "TransformType = itk.TranslationTransform[itk.D, dimension]\n",
    "initial_transform = TransformType.New()\n",
    "initial_transform.SetIdentity()"
   ]
  },
  {
   "cell_type": "markdown",
   "id": "e22341f7-91f9-4216-889d-fa3a43543593",
   "metadata": {},
   "source": [
    "### Recalage b-spline"
   ]
  },
  {
   "cell_type": "code",
   "execution_count": 6,
   "id": "484ee055-e83a-4f8a-8ef5-097b8bd50dde",
   "metadata": {},
   "outputs": [],
   "source": [
    "transform_domain_mesh_size = [2] * fixed_image.GetImageDimension();\n",
    "transform_type = itk.BSplineTransform[itk.D, dimension, 3]\n",
    "transform_bspline = transform_type.New()\n",
    "\n",
    "spacing = fixed_image.GetSpacing()\n",
    "origin = fixed_image.GetOrigin()\n",
    "direction = fixed_image.GetDirection()\n",
    "region = fixed_image.GetBufferedRegion()\n",
    "size = region.GetSize()\n",
    "physical_dimensions = [spacing[i] * size[i] for i in range(dimension)]\n",
    "grid_spacing = [10] * dimension\n",
    "mesh_size = [int(physical_dimensions[i] / spacing[i] + 0.5) for i in range(dimension)]\n",
    "\n",
    "transform_bspline.SetTransformDomainOrigin(fixed_image.GetOrigin())\n",
    "transform_bspline.SetTransformDomainPhysicalDimensions(physical_dimensions)\n",
    "transform_bspline.SetTransformDomainMeshSize(mesh_size)\n",
    "transform_bspline.SetTransformDomainDirection(direction)\n"
   ]
  },
  {
   "cell_type": "markdown",
   "id": "a62abcef-6f96-43ab-bdb4-35d586decb2e",
   "metadata": {},
   "source": [
    "## Optimizer"
   ]
  },
  {
   "cell_type": "code",
   "execution_count": 7,
   "id": "b70a5954-8384-4da2-a3d2-23e6d7f331c8",
   "metadata": {},
   "outputs": [],
   "source": [
    "#Définir l'optimiseur\n",
    "optimizer = itk.RegularStepGradientDescentOptimizerv4.New()\n",
    "optimizer.SetLearningRate(4.0)\n",
    "optimizer.SetMinimumStepLength(0.0001)\n",
    "optimizer.SetNumberOfIterations(200)  # Diminuez ici pour tester l'effet"
   ]
  },
  {
   "cell_type": "markdown",
   "id": "fc1c6a22-e52b-4a67-9512-f165a7ae5953",
   "metadata": {},
   "source": [
    "## Metric"
   ]
  },
  {
   "cell_type": "code",
   "execution_count": 8,
   "id": "0f0c1d88-fa02-4d4f-aed0-0bd9314119a8",
   "metadata": {},
   "outputs": [],
   "source": [
    "#Définir la métrique\n",
    "metric = itk.MeanSquaresImageToImageMetricv4[FixedImageType, MovingImageType].New()\n",
    "#Définir l'interpolateur\n",
    "interpolator = itk.LinearInterpolateImageFunction[FixedImageType, itk.D].New()\n",
    "metric.SetFixedInterpolator(interpolator)"
   ]
  },
  {
   "cell_type": "markdown",
   "id": "6ecf5cd2-ef25-45eb-a844-0946384122bf",
   "metadata": {},
   "source": [
    "## Recalage Composite"
   ]
  },
  {
   "cell_type": "code",
   "execution_count": 9,
   "id": "cb329ffa-e945-4e9f-889c-d4c04ba53102",
   "metadata": {},
   "outputs": [],
   "source": [
    "composite_type = itk.CompositeTransform[itk.D, dimension]\n",
    "composite_transform = composite_type.New()\n",
    "composite_transform.AddTransform(initial_transform)\n",
    "composite_transform.AddTransform(transform_bspline)"
   ]
  },
  {
   "cell_type": "markdown",
   "id": "e6d9559f-b85c-43df-86e6-056e6fecd68a",
   "metadata": {},
   "source": [
    "## Registration"
   ]
  },
  {
   "cell_type": "code",
   "execution_count": null,
   "id": "b77c13ac-209e-485c-8530-f59a37b3aa1f",
   "metadata": {},
   "outputs": [],
   "source": [
    "#Préparer la méthode de recalage\n",
    "registration = itk.ImageRegistrationMethodv4[FixedImageType, MovingImageType].New()\n",
    "registration.SetFixedImage(fixed_image)\n",
    "registration.SetMovingImage(moving_image)\n",
    "registration.SetInitialTransform(composite_transform)\n",
    "registration.SetMetric(metric)\n",
    "registration.SetOptimizer(optimizer)\n",
    "\n",
    "#Lancer\n",
    "registration.Update()\n"
   ]
  },
  {
   "cell_type": "markdown",
   "id": "c4eb6c15-0ce2-4b76-81d4-e3ddd8130560",
   "metadata": {},
   "source": [
    "## Final transform"
   ]
  },
  {
   "cell_type": "code",
   "execution_count": null,
   "id": "91dbd1d9-8a96-4719-8c93-a318834b72e8",
   "metadata": {},
   "outputs": [],
   "source": [
    "#Résultats\n",
    "final_transform = registration.GetTransform()\n",
    "final_parameters = final_transform.GetParameters()\n",
    "translation_x = final_parameters[0]\n",
    "translation_y = final_parameters[1]\n",
    "\n",
    "print(\"Résultat :\")\n",
    "print(f\" Translation X = {translation_x:.2f}\")\n",
    "print(f\" Translation Y = {translation_y:.2f}\")\n",
    "print(f\" Iterations    = {optimizer.GetCurrentIteration()}\")\n",
    "print(f\" Metric value  = {optimizer.GetValue():.6f}\")\n",
    "\n",
    "#Recalage\n",
    "resampler = itk.ResampleImageFilter[MovingImageType, FixedImageType].New()\n",
    "resampler.SetInput(moving_image)\n",
    "resampler.SetTransform(final_transform)\n",
    "resampler.SetUseReferenceImage(True)\n",
    "resampler.SetReferenceImage(fixed_image)\n",
    "resampler.SetDefaultPixelValue(0)\n",
    "resampler.Update()\n",
    "\n",
    "#Sauvegarde\n",
    "aligned_image = resampler.GetOutput()\n",
    "\n",
    "itk.imwrite(aligned_image, \"aligned_image.nii.gz\")"
   ]
  },
  {
   "cell_type": "markdown",
   "id": "225d4441-01e9-42a9-9e14-2b4de5f3dd94",
   "metadata": {},
   "source": [
    "## Segmentation"
   ]
  },
  {
   "cell_type": "code",
   "execution_count": 4,
   "id": "d59c3958-d752-4d76-8e69-5943a9ac043a",
   "metadata": {},
   "outputs": [],
   "source": [
    "ImageTypeOut = itk.Image[itk.UC, 3]\n",
    "gradient = itk.GradientAnisotropicDiffusionImageFilter.New(fixed_image)\n",
    "gradient.SetNumberOfIterations(5)\n",
    "gradient.SetTimeStep(0.05)\n",
    "gradient.SetConductanceParameter(3.0)\n",
    "gradient.Update()\n",
    "smooth_image = gradient.GetOutput()\n",
    "\n",
    "confidence_filter = itk.ConfidenceConnectedImageFilter.New(smooth_image)\n",
    "confidence_filter.SetInitialNeighborhoodRadius(2)\n",
    "confidence_filter.SetMultiplier(2.3)\n",
    "confidence_filter.SetNumberOfIterations(2)\n",
    "confidence_filter.SetReplaceValue(1)\n",
    "\n",
    "seed = itk.Index[3]()\n",
    "seed[0], seed[1], seed[2] = 90, 60, 70\n",
    "confidence_filter.AddSeed(seed)\n",
    "\n",
    "confidence_filter.Update()\n",
    "segmentation = confidence_filter.GetOutput()\n",
    "\n",
    "final = itk.RescaleIntensityImageFilter[type(segmentation), ImageTypeOut].New()\n",
    "final.SetInput(segmentation)\n",
    "final.SetOutputMinimum(0)\n",
    "final.SetOutputMaximum(255)\n",
    "final.Update()\n",
    "final_image = final.GetOutput()\n",
    "\n",
    "itk.imwrite(final_image, \"segmentation_fixed.nii.gz\")"
   ]
  },
  {
   "cell_type": "code",
   "execution_count": 5,
   "id": "aa3271a8-fee0-47fa-bbde-489e43742d5e",
   "metadata": {},
   "outputs": [],
   "source": [
    "ImageTypeOut = itk.Image[itk.UC, 3]\n",
    "gradient = itk.GradientAnisotropicDiffusionImageFilter.New(aligned_image)\n",
    "gradient.SetNumberOfIterations(5)\n",
    "gradient.SetTimeStep(0.05)\n",
    "gradient.SetConductanceParameter(3.0)\n",
    "gradient.Update()\n",
    "smooth_image = gradient.GetOutput()\n",
    "\n",
    "confidence_filter = itk.ConfidenceConnectedImageFilter.New(smooth_image)\n",
    "confidence_filter.SetInitialNeighborhoodRadius(2) \n",
    "confidence_filter.SetMultiplier(2.5)             \n",
    "confidence_filter.SetNumberOfIterations(2)        \n",
    "confidence_filter.SetReplaceValue(1)\n",
    "\n",
    "seed = itk.Index[3]()\n",
    "seed[0], seed[1], seed[2] = 90, 60, 70\n",
    "confidence_filter.AddSeed(seed)\n",
    "\n",
    "confidence_filter.Update()\n",
    "segmentation_image = confidence_filter.GetOutput()\n",
    "\n",
    "final = itk.RescaleIntensityImageFilter[type(segmentation_image), ImageTypeOut].New()\n",
    "final.SetInput(segmentation_image)\n",
    "final.SetOutputMinimum(0)\n",
    "final.SetOutputMaximum(255)\n",
    "final.Update()\n",
    "final_image = final.GetOutput()\n",
    "\n",
    "itk.imwrite(final_image, \"segmentation_aligned.nii.gz\")"
   ]
  },
  {
   "cell_type": "code",
   "execution_count": null,
   "id": "fb584fb4-7c43-4b1b-8001-2b5a9036f467",
   "metadata": {},
   "outputs": [],
   "source": []
  }
 ],
 "metadata": {
  "kernelspec": {
   "display_name": "Python 3 (ipykernel)",
   "language": "python",
   "name": "python3"
  },
  "language_info": {
   "codemirror_mode": {
    "name": "ipython",
    "version": 3
   },
   "file_extension": ".py",
   "mimetype": "text/x-python",
   "name": "python",
   "nbconvert_exporter": "python",
   "pygments_lexer": "ipython3",
   "version": "3.11.2"
  }
 },
 "nbformat": 4,
 "nbformat_minor": 5
}
