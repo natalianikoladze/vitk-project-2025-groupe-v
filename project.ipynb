{
 "cells": [
  {
   "cell_type": "code",
   "execution_count": 1,
   "id": "dfb93c49",
   "metadata": {},
   "outputs": [],
   "source": [
    "import itk\n",
    "import os\n",
    "import matplotlib\n",
    "import matplotlib.pyplot as plt"
   ]
  },
  {
   "cell_type": "markdown",
   "id": "3b1cfa87-7c5d-4d62-a28b-9babf21b4dc9",
   "metadata": {},
   "source": [
    "## Lecture des données"
   ]
  },
  {
   "cell_type": "code",
   "execution_count": 6,
   "id": "385266fd-2813-4198-8d78-8b96dbb00f5d",
   "metadata": {},
   "outputs": [],
   "source": [
    "file1_path = \"Data/case6_gre1.nrrd\"\n",
    "file2_path = \"Data/case6_gre2.nrrd\"\n",
    "\n",
    "image_type = itk.Image[itk.F, 3]\n",
    "\n",
    "reader1 = itk.ImageFileReader[image_type].New(FileName= file1_path)\n",
    "reader1.Update()\n",
    "image1 = reader1.GetOutput()\n",
    "reader2 = itk.ImageFileReader[image_type].New(FileName= file2_path)\n",
    "reader2.Update()\n",
    "image2 = reader2.GetOutput()"
   ]
  },
  {
   "cell_type": "markdown",
   "id": "10549056-304c-4d46-bd81-9044a29baeb8",
   "metadata": {},
   "source": [
    "## Recalage d'images"
   ]
  },
  {
   "cell_type": "markdown",
   "id": "82659d0d-278a-495d-a2a3-f535c64a3705",
   "metadata": {},
   "source": [
    "### Recalage par translation"
   ]
  },
  {
   "cell_type": "code",
   "execution_count": 23,
   "id": "4dcde6d0-8201-417c-a880-f5e34930c2cc",
   "metadata": {},
   "outputs": [
    {
     "ename": "AttributeError",
     "evalue": "'itkImageRegistrationMethodv4REGv4F3F3' object has no attribute 'Execute'",
     "output_type": "error",
     "traceback": [
      "\u001b[31m---------------------------------------------------------------------------\u001b[39m",
      "\u001b[31mAttributeError\u001b[39m                            Traceback (most recent call last)",
      "\u001b[36mCell\u001b[39m\u001b[36m \u001b[39m\u001b[32mIn[23]\u001b[39m\u001b[32m, line 49\u001b[39m\n\u001b[32m     44\u001b[39m     \u001b[38;5;28mprint\u001b[39m(\u001b[33mf\u001b[39m\u001b[33m\"\u001b[39m\u001b[33mIteration \u001b[39m\u001b[38;5;132;01m{\u001b[39;00moptimizer.GetCurrentIteration()\u001b[38;5;132;01m}\u001b[39;00m\u001b[33m: \u001b[39m\u001b[33m\"\u001b[39m\n\u001b[32m     45\u001b[39m           \u001b[33mf\u001b[39m\u001b[33m\"\u001b[39m\u001b[33mMetric = \u001b[39m\u001b[38;5;132;01m{\u001b[39;00moptimizer.GetValue()\u001b[38;5;132;01m}\u001b[39;00m\u001b[33m\"\u001b[39m)\n\u001b[32m     47\u001b[39m optimizer.AddObserver(itk.IterationEvent(), \u001b[38;5;28;01mlambda\u001b[39;00m evt: iteration_update())\n\u001b[32m---> \u001b[39m\u001b[32m49\u001b[39m finalTransform = \u001b[43mregistration\u001b[49m\u001b[43m.\u001b[49m\u001b[43mExecute\u001b[49m()\n\u001b[32m     50\u001b[39m \u001b[38;5;28mprint\u001b[39m(\u001b[33m\"\u001b[39m\u001b[33mRegistration completed.\u001b[39m\u001b[33m\"\u001b[39m)\n\u001b[32m     51\u001b[39m \u001b[38;5;28mprint\u001b[39m(\u001b[33m\"\u001b[39m\u001b[33mFinal parameters:\u001b[39m\u001b[33m\"\u001b[39m, finalTransform.GetParameters())\n",
      "\u001b[31mAttributeError\u001b[39m: 'itkImageRegistrationMethodv4REGv4F3F3' object has no attribute 'Execute'"
     ]
    }
   ],
   "source": [
    "fixed_image = image1\n",
    "moving_image = image2\n",
    "\n",
    "PixelType = itk.ctype('float')\n",
    "\n",
    "dimension = fixed_image.GetImageDimension()\n",
    "FixedImage = type(fixed_image)\n",
    "MovingImage = type(moving_image)\n",
    "\n",
    "fixed  = fixed_image\n",
    "moving = moving_image\n",
    "\n",
    "# Metric: how similarity is measured\n",
    "MetricType    = itk.MeanSquaresImageToImageMetricv4[FixedImage, MovingImage]\n",
    "metric        = MetricType.New()\n",
    "\n",
    "# Optimizer: how the transform parameters are updated\n",
    "OptimizerType = itk.RegularStepGradientDescentOptimizerv4[itk.D, itk.D]\n",
    "opti.New()\n",
    "\n",
    "# Registration method\n",
    "RegistrationType = itk.ImageRegistrationMethodv4[FixedImage, MovingImage]\n",
    "registration     = RegistrationType.New()\n",
    "\n",
    "# Connect components\n",
    "registration.SetMetric(metric)\n",
    "registration.SetOptimizer(optimizer)\n",
    "registration.SetFixedImage(fixed)\n",
    "registration.SetMovingImage(moving)\n",
    "\n",
    "# Choose Euler3D for rigid-body rotations + translations\n",
    "TransformType = itk.Euler3DTransform[itk.D]\n",
    "initialTransform = TransformType.New()\n",
    "\n",
    "# Center the transform at the fixed image center\n",
    "initialTransform.SetCenter(\n",
    "    itk.CenteredTransformInitializer(\n",
    "        fixed, moving, initialTransform,\n",
    "        itk.CenteredTransformInitializerEnum.GEOMETRY\n",
    "    ).GetTransform().GetCenter()\n",
    ")\n",
    "\n",
    "registration.SetInitialTransform(initialTransform)\n",
    "registration.SetMovingInitialTransform(initialTransform)\n",
    "\n",
    "optimizer.SetLearningRate(4.0)\n",
    "optimizer.SetMinimumStepLength(0.001)\n",
    "optimizer.SetNumberOfIterations(200)\n",
    "optimizer.SetRelaxationFactor(0.5)\n",
    "\n",
    "# Optional: Monitor progress\n",
    "def iteration_update():\n",
    "    print(f\"Iteration {optimizer.GetCurrentIteration()}: \"\n",
    "          f\"Metric = {optimizer.GetValue()}\")\n",
    "\n",
    "optimizer.AddObserver(itk.IterationEvent(), lambda evt: iteration_update())\n",
    "\n",
    "finalTransform = registration.Execute()\n",
    "print(\"Registration completed.\")\n",
    "print(\"Final parameters:\", finalTransform.GetParameters())\n",
    "\n",
    "ResampleFilter = itk.ResampleImageFilter[MovingImage, FixedImage]\n",
    "resampler      = ResampleFilter.New(\n",
    "    Input=moving,\n",
    "    Transform=finalTransform,\n",
    "    UseReferenceImage=True,\n",
    "    ReferenceImage=fixed,\n",
    "    DefaultPixelValue=0\n",
    ")\n",
    "resampler.Update()\n",
    "\n",
    "aligned = resampler.GetOutput()\n",
    "itk.imwrite(aligned, 'aligned_moving.nrrd')\n",
    "print(\"Aligned image saved to aligned_moving.nrrd.\")\n",
    "\n"
   ]
  }
 ],
 "metadata": {
  "kernelspec": {
   "display_name": "Python 3 (ipykernel)",
   "language": "python",
   "name": "python3"
  },
  "language_info": {
   "codemirror_mode": {
    "name": "ipython",
    "version": 3
   },
   "file_extension": ".py",
   "mimetype": "text/x-python",
   "name": "python",
   "nbconvert_exporter": "python",
   "pygments_lexer": "ipython3",
   "version": "3.11.2"
  }
 },
 "nbformat": 4,
 "nbformat_minor": 5
}
