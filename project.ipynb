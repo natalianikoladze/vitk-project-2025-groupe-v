{
 "cells": [
  {
   "cell_type": "code",
   "execution_count": 2,
   "id": "dfb93c49",
   "metadata": {},
   "outputs": [],
   "source": [
    "import itk\n",
    "import os\n",
    "import matplotlib\n",
    "import matplotlib.pyplot as plt"
   ]
  },
  {
   "cell_type": "markdown",
   "id": "3b1cfa87-7c5d-4d62-a28b-9babf21b4dc9",
   "metadata": {},
   "source": [
    "## Lecture des données"
   ]
  },
  {
   "cell_type": "code",
   "execution_count": 8,
   "id": "385266fd-2813-4198-8d78-8b96dbb00f5d",
   "metadata": {},
   "outputs": [],
   "source": [
    "file1_path = \"Data/case6_gre1.nrrd\"\n",
    "file2_path = \"Data/case6_gre2.nrrd\"\n",
    "\n",
    "PixelType = itk.F\n",
    "fixed_image = itk.imread(file1_path, PixelType)\n",
    "moving_image = itk.imread(file2_path, PixelType)\n",
    "itk.imwrite(fixed_image, \"fixed_image.nii.gz\")\n",
    "itk.imwrite(moving_image, \"moving_image.nii.gz\")"
   ]
  },
  {
   "cell_type": "markdown",
   "id": "10549056-304c-4d46-bd81-9044a29baeb8",
   "metadata": {},
   "source": [
    "## Recalage d'images"
   ]
  },
  {
   "cell_type": "markdown",
   "id": "82659d0d-278a-495d-a2a3-f535c64a3705",
   "metadata": {},
   "source": [
    "### Recalage par translation"
   ]
  },
  {
   "cell_type": "code",
   "execution_count": 79,
   "id": "4dcde6d0-8201-417c-a880-f5e34930c2cc",
   "metadata": {},
   "outputs": [
    {
     "name": "stdout",
     "output_type": "stream",
     "text": [
      "Résultat :\n",
      " Translation X = -0.83\n",
      " Translation Y = -3.54\n",
      " Iterations    = 20\n",
      " Metric value  = 11180.776679\n"
     ]
    }
   ],
   "source": [
    "dimension = fixed_image.GetImageDimension()\n",
    "FixedImageType = type(fixed_image)\n",
    "MovingImageType = type(moving_image)\n",
    "\n",
    "#Définir la transformation\n",
    "TransformType = itk.TranslationTransform[itk.D, dimension]\n",
    "initial_transform = TransformType.New()\n",
    "initial_transform.SetIdentity()\n",
    "\n",
    "#Définir l'optimiseur\n",
    "optimizer = itk.RegularStepGradientDescentOptimizerv4.New()\n",
    "optimizer.SetLearningRate(4.0)\n",
    "optimizer.SetMinimumStepLength(0.001)\n",
    "optimizer.SetNumberOfIterations(100)  # Diminuez ici pour tester l'effet\n",
    "\n",
    "#Définir la métrique\n",
    "metric = itk.MeanSquaresImageToImageMetricv4[FixedImageType, MovingImageType].New()\n",
    "\n",
    "#Définir l'interpolateur\n",
    "interpolator = itk.LinearInterpolateImageFunction[FixedImageType, itk.D].New()\n",
    "metric.SetFixedInterpolator(interpolator)\n",
    "\n",
    "#Préparer la méthode de recalage\n",
    "registration = itk.ImageRegistrationMethodv4[FixedImageType, MovingImageType].New()\n",
    "registration.SetFixedImage(fixed_image)\n",
    "registration.SetMovingImage(moving_image)\n",
    "registration.SetInitialTransform(initial_transform)\n",
    "registration.SetMetric(metric)\n",
    "registration.SetOptimizer(optimizer)\n",
    "\n",
    "#Lancer\n",
    "registration.Update()\n",
    "\n",
    "#Résultats\n",
    "final_transform = registration.GetTransform()\n",
    "final_parameters = final_transform.GetParameters()\n",
    "translation_x = final_parameters[0]\n",
    "translation_y = final_parameters[1]\n",
    "\n",
    "print(\"Résultat :\")\n",
    "print(f\" Translation X = {translation_x:.2f}\")\n",
    "print(f\" Translation Y = {translation_y:.2f}\")\n",
    "print(f\" Iterations    = {optimizer.GetCurrentIteration()}\")\n",
    "print(f\" Metric value  = {optimizer.GetValue():.6f}\")\n",
    "\n",
    "#Recalage\n",
    "resampler = itk.ResampleImageFilter[MovingImageType, FixedImageType].New()\n",
    "resampler.SetInput(moving_image)\n",
    "resampler.SetTransform(final_transform)\n",
    "resampler.SetUseReferenceImage(True)\n",
    "resampler.SetReferenceImage(fixed_image)\n",
    "resampler.SetDefaultPixelValue(0)\n",
    "resampler.Update()\n",
    "\n",
    "#Sauvegarde\n",
    "aligned_image = resampler.GetOutput()\n",
    "\n",
    "itk.imwrite(aligned_image, \"aligned_image.nii.gz\")"
   ]
  },
  {
   "cell_type": "code",
   "execution_count": 208,
   "id": "d59c3958-d752-4d76-8e69-5943a9ac043a",
   "metadata": {},
   "outputs": [],
   "source": [
    "ImageTypeOut = itk.Image[itk.UC, 3]\n",
    "gradient = itk.GradientAnisotropicDiffusionImageFilter.New(fixed_image)\n",
    "gradient.SetNumberOfIterations(5)\n",
    "gradient.SetTimeStep(0.05)\n",
    "gradient.SetConductanceParameter(3.0)\n",
    "gradient.Update()\n",
    "smooth_image = gradient.GetOutput()\n",
    "\n",
    "confidence_filter = itk.ConfidenceConnectedImageFilter.New(smooth_image)\n",
    "confidence_filter.SetInitialNeighborhoodRadius(2)\n",
    "confidence_filter.SetMultiplier(2.3)\n",
    "confidence_filter.SetNumberOfIterations(2)\n",
    "confidence_filter.SetReplaceValue(1)\n",
    "\n",
    "seed = itk.Index[3]()\n",
    "seed[0], seed[1], seed[2] = 90, 60, 70\n",
    "confidence_filter.AddSeed(seed)\n",
    "\n",
    "confidence_filter.Update()\n",
    "segmentation = confidence_filter.GetOutput()\n",
    "\n",
    "final = itk.RescaleIntensityImageFilter[type(segmentation), ImageTypeOut].New()\n",
    "final.SetInput(segmentation)\n",
    "final.SetOutputMinimum(0)\n",
    "final.SetOutputMaximum(255)\n",
    "final.Update()\n",
    "final_image = final.GetOutput()\n",
    "\n",
    "itk.imwrite(final_image, \"segmentation_fixed.nii.gz\")"
   ]
  },
  {
   "cell_type": "code",
   "execution_count": 206,
   "id": "aa3271a8-fee0-47fa-bbde-489e43742d5e",
   "metadata": {},
   "outputs": [],
   "source": [
    "ImageTypeOut = itk.Image[itk.UC, 3]\n",
    "gradient = itk.GradientAnisotropicDiffusionImageFilter.New(aligned_image)\n",
    "gradient.SetNumberOfIterations(5)\n",
    "gradient.SetTimeStep(0.05)\n",
    "gradient.SetConductanceParameter(3.0)\n",
    "gradient.Update()\n",
    "smooth_image = gradient.GetOutput()\n",
    "\n",
    "confidence_filter = itk.ConfidenceConnectedImageFilter.New(smooth_image)\n",
    "confidence_filter.SetInitialNeighborhoodRadius(2) \n",
    "confidence_filter.SetMultiplier(2.5)             \n",
    "confidence_filter.SetNumberOfIterations(2)        \n",
    "confidence_filter.SetReplaceValue(1)\n",
    "\n",
    "seed = itk.Index[3]()\n",
    "seed[0], seed[1], seed[2] = 90, 60, 70\n",
    "confidence_filter.AddSeed(seed)\n",
    "\n",
    "confidence_filter.Update()\n",
    "segmentation_image = confidence_filter.GetOutput()\n",
    "\n",
    "final = itk.RescaleIntensityImageFilter[type(segmentation_image), ImageTypeOut].New()\n",
    "final.SetInput(segmentation_image)\n",
    "final.SetOutputMinimum(0)\n",
    "final.SetOutputMaximum(255)\n",
    "final.Update()\n",
    "final_image = final.GetOutput()\n",
    "\n",
    "itk.imwrite(final_image, \"segmentation_aligned.nii.gz\")"
   ]
  },
  {
   "cell_type": "code",
   "execution_count": null,
   "id": "fb584fb4-7c43-4b1b-8001-2b5a9036f467",
   "metadata": {},
   "outputs": [],
   "source": []
  }
 ],
 "metadata": {
  "kernelspec": {
   "display_name": "Python 3 (ipykernel)",
   "language": "python",
   "name": "python3"
  },
  "language_info": {
   "codemirror_mode": {
    "name": "ipython",
    "version": 3
   },
   "file_extension": ".py",
   "mimetype": "text/x-python",
   "name": "python",
   "nbconvert_exporter": "python",
   "pygments_lexer": "ipython3",
   "version": "3.13.2"
  }
 },
 "nbformat": 4,
 "nbformat_minor": 5
}
